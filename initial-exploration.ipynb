{
 "cells": [
  {
   "cell_type": "markdown",
   "metadata": {},
   "source": [
    "To evaluate search relevancy, CrowdFlower has had their crowd evaluate searches from a handful of eCommerce websites. \n",
    "A total of 261 search terms were generated, and CrowdFlower put together a list of products and their corresponding search terms. \n",
    "Each rater in the crowd was asked to give a product search term a score of 1, 2, 3, 4, with 4 indicating the item completely \n",
    "satisfies the search query, and 1 indicating the item doesn't match the search term."
   ]
  },
  {
   "cell_type": "code",
   "execution_count": 1,
   "metadata": {
    "collapsed": true
   },
   "outputs": [],
   "source": [
    "import numpy as np\n",
    "import pandas as pd\n",
    "import re"
   ]
  },
  {
   "cell_type": "code",
   "execution_count": 2,
   "metadata": {
    "collapsed": true
   },
   "outputs": [],
   "source": [
    "from nltk.corpus import stopwords"
   ]
  },
  {
   "cell_type": "code",
   "execution_count": 3,
   "metadata": {
    "collapsed": false
   },
   "outputs": [],
   "source": [
    "train = pd.read_csv('train.csv').fillna(0)"
   ]
  },
  {
   "cell_type": "code",
   "execution_count": 4,
   "metadata": {
    "collapsed": false
   },
   "outputs": [
    {
     "data": {
      "text/plain": [
       "(10158, 6)"
      ]
     },
     "execution_count": 4,
     "metadata": {},
     "output_type": "execute_result"
    }
   ],
   "source": [
    "train.shape"
   ]
  },
  {
   "cell_type": "code",
   "execution_count": 5,
   "metadata": {
    "collapsed": true
   },
   "outputs": [],
   "source": [
    "test = pd.read_csv('test.csv').fillna(0)"
   ]
  },
  {
   "cell_type": "code",
   "execution_count": 6,
   "metadata": {
    "collapsed": false
   },
   "outputs": [
    {
     "data": {
      "text/plain": [
       "(22513, 4)"
      ]
     },
     "execution_count": 6,
     "metadata": {},
     "output_type": "execute_result"
    }
   ],
   "source": [
    "test.shape"
   ]
  },
  {
   "cell_type": "code",
   "execution_count": 7,
   "metadata": {
    "collapsed": false,
    "scrolled": true
   },
   "outputs": [
    {
     "data": {
      "text/html": [
       "<div>\n",
       "<table border=\"1\" class=\"dataframe\">\n",
       "  <thead>\n",
       "    <tr style=\"text-align: right;\">\n",
       "      <th></th>\n",
       "      <th>id</th>\n",
       "      <th>query</th>\n",
       "      <th>product_title</th>\n",
       "      <th>product_description</th>\n",
       "      <th>median_relevance</th>\n",
       "      <th>relevance_variance</th>\n",
       "    </tr>\n",
       "  </thead>\n",
       "  <tbody>\n",
       "    <tr>\n",
       "      <th>0</th>\n",
       "      <td>1</td>\n",
       "      <td>bridal shower decorations</td>\n",
       "      <td>Accent Pillow with Heart Design - Red/Black</td>\n",
       "      <td>Red satin accent pillow embroidered with a hea...</td>\n",
       "      <td>1</td>\n",
       "      <td>0.000</td>\n",
       "    </tr>\n",
       "    <tr>\n",
       "      <th>1</th>\n",
       "      <td>2</td>\n",
       "      <td>led christmas lights</td>\n",
       "      <td>Set of 10 Battery Operated Multi LED Train Chr...</td>\n",
       "      <td>Set of 10 Battery Operated Train Christmas Lig...</td>\n",
       "      <td>4</td>\n",
       "      <td>0.000</td>\n",
       "    </tr>\n",
       "    <tr>\n",
       "      <th>2</th>\n",
       "      <td>4</td>\n",
       "      <td>projector</td>\n",
       "      <td>ViewSonic Pro8200 DLP Multimedia Projector</td>\n",
       "      <td>0</td>\n",
       "      <td>4</td>\n",
       "      <td>0.471</td>\n",
       "    </tr>\n",
       "    <tr>\n",
       "      <th>3</th>\n",
       "      <td>5</td>\n",
       "      <td>wine rack</td>\n",
       "      <td>Concept Housewares WR-44526 Solid-Wood Ceiling...</td>\n",
       "      <td>Like a silent and sturdy tree, the Southern En...</td>\n",
       "      <td>4</td>\n",
       "      <td>0.000</td>\n",
       "    </tr>\n",
       "    <tr>\n",
       "      <th>4</th>\n",
       "      <td>7</td>\n",
       "      <td>light bulb</td>\n",
       "      <td>Wintergreen Lighting Christmas LED Light Bulb ...</td>\n",
       "      <td>WTGR1011\\nFeatures\\nNickel base, 60,000 averag...</td>\n",
       "      <td>2</td>\n",
       "      <td>0.471</td>\n",
       "    </tr>\n",
       "  </tbody>\n",
       "</table>\n",
       "</div>"
      ],
      "text/plain": [
       "   id                      query  \\\n",
       "0   1  bridal shower decorations   \n",
       "1   2       led christmas lights   \n",
       "2   4                  projector   \n",
       "3   5                  wine rack   \n",
       "4   7                 light bulb   \n",
       "\n",
       "                                       product_title  \\\n",
       "0        Accent Pillow with Heart Design - Red/Black   \n",
       "1  Set of 10 Battery Operated Multi LED Train Chr...   \n",
       "2         ViewSonic Pro8200 DLP Multimedia Projector   \n",
       "3  Concept Housewares WR-44526 Solid-Wood Ceiling...   \n",
       "4  Wintergreen Lighting Christmas LED Light Bulb ...   \n",
       "\n",
       "                                 product_description  median_relevance  \\\n",
       "0  Red satin accent pillow embroidered with a hea...                 1   \n",
       "1  Set of 10 Battery Operated Train Christmas Lig...                 4   \n",
       "2                                                  0                 4   \n",
       "3  Like a silent and sturdy tree, the Southern En...                 4   \n",
       "4  WTGR1011\\nFeatures\\nNickel base, 60,000 averag...                 2   \n",
       "\n",
       "   relevance_variance  \n",
       "0               0.000  \n",
       "1               0.000  \n",
       "2               0.471  \n",
       "3               0.000  \n",
       "4               0.471  "
      ]
     },
     "execution_count": 7,
     "metadata": {},
     "output_type": "execute_result"
    }
   ],
   "source": [
    "train.head()"
   ]
  },
  {
   "cell_type": "code",
   "execution_count": 8,
   "metadata": {
    "collapsed": false
   },
   "outputs": [
    {
     "data": {
      "text/plain": [
       "((10158, 6), (22513, 4))"
      ]
     },
     "execution_count": 8,
     "metadata": {},
     "output_type": "execute_result"
    }
   ],
   "source": [
    "train.shape, test.shape"
   ]
  },
  {
   "cell_type": "code",
   "execution_count": 9,
   "metadata": {
    "collapsed": false
   },
   "outputs": [
    {
     "data": {
      "text/plain": [
       "(id                       int64\n",
       " query                   object\n",
       " product_title           object\n",
       " product_description     object\n",
       " median_relevance         int64\n",
       " relevance_variance     float64\n",
       " dtype: object, id                      int64\n",
       " query                  object\n",
       " product_title          object\n",
       " product_description    object\n",
       " dtype: object)"
      ]
     },
     "execution_count": 9,
     "metadata": {},
     "output_type": "execute_result"
    }
   ],
   "source": [
    "train.dtypes, test.dtypes"
   ]
  },
  {
   "cell_type": "code",
   "execution_count": 10,
   "metadata": {
    "collapsed": false
   },
   "outputs": [
    {
     "data": {
      "text/plain": [
       "261"
      ]
     },
     "execution_count": 10,
     "metadata": {},
     "output_type": "execute_result"
    }
   ],
   "source": [
    "#look at queries in training df\n",
    "len(train['query'].unique())\n",
    "#261 unique searches out of 10158 total observations"
   ]
  },
  {
   "cell_type": "code",
   "execution_count": 11,
   "metadata": {
    "collapsed": false
   },
   "outputs": [
    {
     "data": {
      "text/plain": [
       "261"
      ]
     },
     "execution_count": 11,
     "metadata": {},
     "output_type": "execute_result"
    }
   ],
   "source": [
    "#look at queries in test df\n",
    "len(test['query'].unique())\n",
    "#same number innnnnteresting..uh duh it says that up top"
   ]
  },
  {
   "cell_type": "code",
   "execution_count": 12,
   "metadata": {
    "collapsed": true
   },
   "outputs": [],
   "source": [
    "unique1 = train['query'].unique()\n",
    "unique2 = test['query'].unique()"
   ]
  },
  {
   "cell_type": "code",
   "execution_count": 13,
   "metadata": {
    "collapsed": false
   },
   "outputs": [],
   "source": [
    "match = unique1 == unique2"
   ]
  },
  {
   "cell_type": "code",
   "execution_count": 14,
   "metadata": {
    "collapsed": false
   },
   "outputs": [
    {
     "data": {
      "text/plain": [
       "261"
      ]
     },
     "execution_count": 14,
     "metadata": {},
     "output_type": "execute_result"
    }
   ],
   "source": [
    "len(match)"
   ]
  },
  {
   "cell_type": "code",
   "execution_count": 15,
   "metadata": {
    "collapsed": false
   },
   "outputs": [
    {
     "name": "stdout",
     "output_type": "stream",
     "text": [
      "9708\n",
      "21110\n"
     ]
    }
   ],
   "source": [
    "print(len(train['product_title'].unique()))\n",
    "print(len(test['product_title'].unique()))"
   ]
  },
  {
   "cell_type": "code",
   "execution_count": 16,
   "metadata": {
    "collapsed": true
   },
   "outputs": [],
   "source": [
    "#the product titles are not the same\n",
    "#also from the train.shape and test.shape we see the length of unique values almost equals the number of observations\n",
    "#this means each product title appears only once (more or less)"
   ]
  },
  {
   "cell_type": "code",
   "execution_count": 17,
   "metadata": {
    "collapsed": true
   },
   "outputs": [],
   "source": [
    "#do some basic text analysis"
   ]
  },
  {
   "cell_type": "code",
   "execution_count": 18,
   "metadata": {
    "collapsed": false
   },
   "outputs": [
    {
     "data": {
      "text/plain": [
       "153"
      ]
     },
     "execution_count": 18,
     "metadata": {},
     "output_type": "execute_result"
    }
   ],
   "source": [
    "stop = stopwords.words('english')\n",
    "len(stop)\n",
    "#stop word removal not working IMO"
   ]
  },
  {
   "cell_type": "code",
   "execution_count": 19,
   "metadata": {
    "collapsed": false
   },
   "outputs": [],
   "source": [
    "train['product_description'] = train['product_description'].astype(str)\n",
    "test['product_description'] = test['product_description'].astype(str)"
   ]
  },
  {
   "cell_type": "code",
   "execution_count": 20,
   "metadata": {
    "collapsed": true
   },
   "outputs": [],
   "source": [
    "train['product_title'] = train['product_title'].astype(str)\n",
    "test['product_title'] = test['product_title'].astype(str)"
   ]
  },
  {
   "cell_type": "code",
   "execution_count": 21,
   "metadata": {
    "collapsed": false,
    "scrolled": true
   },
   "outputs": [],
   "source": [
    "train['query_cleaned'] = train['query'].map(lambda x: [item for item in x.split() if item not in stop])\n",
    "train['product_description_cleaned'] = train['product_description'].map(lambda x: [item for item in x.split() if item not in stop])"
   ]
  },
  {
   "cell_type": "code",
   "execution_count": 22,
   "metadata": {
    "collapsed": false
   },
   "outputs": [],
   "source": [
    "test['query_cleaned'] = test['query'].map(lambda x: [item for item in x.split() if item not in stop])\n",
    "test['product_description_cleaned'] = test['product_description'].map(lambda x: [item for item in x.split() if item not in stop])"
   ]
  },
  {
   "cell_type": "code",
   "execution_count": 23,
   "metadata": {
    "collapsed": false
   },
   "outputs": [],
   "source": [
    "train['product_title_cleaned'] = train['product_title'].map(lambda x: [item for item in x.split() if item not in stop])\n",
    "test['product_title_cleaned'] = test['product_title'].map(lambda x: [item for item in x.split() if item not in stop])"
   ]
  },
  {
   "cell_type": "code",
   "execution_count": 24,
   "metadata": {
    "collapsed": false
   },
   "outputs": [
    {
     "data": {
      "text/html": [
       "<div>\n",
       "<table border=\"1\" class=\"dataframe\">\n",
       "  <thead>\n",
       "    <tr style=\"text-align: right;\">\n",
       "      <th></th>\n",
       "      <th>id</th>\n",
       "      <th>query</th>\n",
       "      <th>product_title</th>\n",
       "      <th>product_description</th>\n",
       "      <th>median_relevance</th>\n",
       "      <th>relevance_variance</th>\n",
       "      <th>query_cleaned</th>\n",
       "      <th>product_description_cleaned</th>\n",
       "      <th>product_title_cleaned</th>\n",
       "    </tr>\n",
       "  </thead>\n",
       "  <tbody>\n",
       "    <tr>\n",
       "      <th>0</th>\n",
       "      <td>1</td>\n",
       "      <td>bridal shower decorations</td>\n",
       "      <td>Accent Pillow with Heart Design - Red/Black</td>\n",
       "      <td>Red satin accent pillow embroidered with a hea...</td>\n",
       "      <td>1</td>\n",
       "      <td>0.000</td>\n",
       "      <td>[bridal, shower, decorations]</td>\n",
       "      <td>[Red, satin, accent, pillow, embroidered, hear...</td>\n",
       "      <td>[Accent, Pillow, Heart, Design, -, Red/Black]</td>\n",
       "    </tr>\n",
       "    <tr>\n",
       "      <th>1</th>\n",
       "      <td>2</td>\n",
       "      <td>led christmas lights</td>\n",
       "      <td>Set of 10 Battery Operated Multi LED Train Chr...</td>\n",
       "      <td>Set of 10 Battery Operated Train Christmas Lig...</td>\n",
       "      <td>4</td>\n",
       "      <td>0.000</td>\n",
       "      <td>[led, christmas, lights]</td>\n",
       "      <td>[Set, 10, Battery, Operated, Train, Christmas,...</td>\n",
       "      <td>[Set, 10, Battery, Operated, Multi, LED, Train...</td>\n",
       "    </tr>\n",
       "    <tr>\n",
       "      <th>2</th>\n",
       "      <td>4</td>\n",
       "      <td>projector</td>\n",
       "      <td>ViewSonic Pro8200 DLP Multimedia Projector</td>\n",
       "      <td>0</td>\n",
       "      <td>4</td>\n",
       "      <td>0.471</td>\n",
       "      <td>[projector]</td>\n",
       "      <td>[0]</td>\n",
       "      <td>[ViewSonic, Pro8200, DLP, Multimedia, Projector]</td>\n",
       "    </tr>\n",
       "  </tbody>\n",
       "</table>\n",
       "</div>"
      ],
      "text/plain": [
       "   id                      query  \\\n",
       "0   1  bridal shower decorations   \n",
       "1   2       led christmas lights   \n",
       "2   4                  projector   \n",
       "\n",
       "                                       product_title  \\\n",
       "0        Accent Pillow with Heart Design - Red/Black   \n",
       "1  Set of 10 Battery Operated Multi LED Train Chr...   \n",
       "2         ViewSonic Pro8200 DLP Multimedia Projector   \n",
       "\n",
       "                                 product_description  median_relevance  \\\n",
       "0  Red satin accent pillow embroidered with a hea...                 1   \n",
       "1  Set of 10 Battery Operated Train Christmas Lig...                 4   \n",
       "2                                                  0                 4   \n",
       "\n",
       "   relevance_variance                  query_cleaned  \\\n",
       "0               0.000  [bridal, shower, decorations]   \n",
       "1               0.000       [led, christmas, lights]   \n",
       "2               0.471                    [projector]   \n",
       "\n",
       "                         product_description_cleaned  \\\n",
       "0  [Red, satin, accent, pillow, embroidered, hear...   \n",
       "1  [Set, 10, Battery, Operated, Train, Christmas,...   \n",
       "2                                                [0]   \n",
       "\n",
       "                               product_title_cleaned  \n",
       "0      [Accent, Pillow, Heart, Design, -, Red/Black]  \n",
       "1  [Set, 10, Battery, Operated, Multi, LED, Train...  \n",
       "2   [ViewSonic, Pro8200, DLP, Multimedia, Projector]  "
      ]
     },
     "execution_count": 24,
     "metadata": {},
     "output_type": "execute_result"
    }
   ],
   "source": [
    "train.head(3)"
   ]
  },
  {
   "cell_type": "code",
   "execution_count": 25,
   "metadata": {
    "collapsed": false
   },
   "outputs": [],
   "source": [
    "train['len_product_title'] = train['product_title_cleaned'].apply(len)\n",
    "train['len_product_description'] = train['product_description_cleaned'].apply(len)\n",
    "train['len_query'] = train['query_cleaned'].apply(len)"
   ]
  },
  {
   "cell_type": "code",
   "execution_count": 26,
   "metadata": {
    "collapsed": true
   },
   "outputs": [],
   "source": [
    "test['len_product_title'] = test['product_title_cleaned'].apply(len)\n",
    "test['len_product_description'] = test['product_description_cleaned'].apply(len)\n",
    "test['len_query'] = test['query_cleaned'].apply(len)"
   ]
  },
  {
   "cell_type": "code",
   "execution_count": 27,
   "metadata": {
    "collapsed": false
   },
   "outputs": [
    {
     "data": {
      "text/html": [
       "<div>\n",
       "<table border=\"1\" class=\"dataframe\">\n",
       "  <thead>\n",
       "    <tr style=\"text-align: right;\">\n",
       "      <th></th>\n",
       "      <th>id</th>\n",
       "      <th>query</th>\n",
       "      <th>product_title</th>\n",
       "      <th>product_description</th>\n",
       "      <th>median_relevance</th>\n",
       "      <th>relevance_variance</th>\n",
       "      <th>query_cleaned</th>\n",
       "      <th>product_description_cleaned</th>\n",
       "      <th>product_title_cleaned</th>\n",
       "      <th>len_product_title</th>\n",
       "      <th>len_product_description</th>\n",
       "      <th>len_query</th>\n",
       "    </tr>\n",
       "  </thead>\n",
       "  <tbody>\n",
       "    <tr>\n",
       "      <th>0</th>\n",
       "      <td>1</td>\n",
       "      <td>bridal shower decorations</td>\n",
       "      <td>Accent Pillow with Heart Design - Red/Black</td>\n",
       "      <td>Red satin accent pillow embroidered with a hea...</td>\n",
       "      <td>1</td>\n",
       "      <td>0.000</td>\n",
       "      <td>[bridal, shower, decorations]</td>\n",
       "      <td>[Red, satin, accent, pillow, embroidered, hear...</td>\n",
       "      <td>[Accent, Pillow, Heart, Design, -, Red/Black]</td>\n",
       "      <td>6</td>\n",
       "      <td>11</td>\n",
       "      <td>3</td>\n",
       "    </tr>\n",
       "    <tr>\n",
       "      <th>1</th>\n",
       "      <td>2</td>\n",
       "      <td>led christmas lights</td>\n",
       "      <td>Set of 10 Battery Operated Multi LED Train Chr...</td>\n",
       "      <td>Set of 10 Battery Operated Train Christmas Lig...</td>\n",
       "      <td>4</td>\n",
       "      <td>0.000</td>\n",
       "      <td>[led, christmas, lights]</td>\n",
       "      <td>[Set, 10, Battery, Operated, Train, Christmas,...</td>\n",
       "      <td>[Set, 10, Battery, Operated, Multi, LED, Train...</td>\n",
       "      <td>12</td>\n",
       "      <td>119</td>\n",
       "      <td>3</td>\n",
       "    </tr>\n",
       "    <tr>\n",
       "      <th>2</th>\n",
       "      <td>4</td>\n",
       "      <td>projector</td>\n",
       "      <td>ViewSonic Pro8200 DLP Multimedia Projector</td>\n",
       "      <td>0</td>\n",
       "      <td>4</td>\n",
       "      <td>0.471</td>\n",
       "      <td>[projector]</td>\n",
       "      <td>[0]</td>\n",
       "      <td>[ViewSonic, Pro8200, DLP, Multimedia, Projector]</td>\n",
       "      <td>5</td>\n",
       "      <td>1</td>\n",
       "      <td>1</td>\n",
       "    </tr>\n",
       "  </tbody>\n",
       "</table>\n",
       "</div>"
      ],
      "text/plain": [
       "   id                      query  \\\n",
       "0   1  bridal shower decorations   \n",
       "1   2       led christmas lights   \n",
       "2   4                  projector   \n",
       "\n",
       "                                       product_title  \\\n",
       "0        Accent Pillow with Heart Design - Red/Black   \n",
       "1  Set of 10 Battery Operated Multi LED Train Chr...   \n",
       "2         ViewSonic Pro8200 DLP Multimedia Projector   \n",
       "\n",
       "                                 product_description  median_relevance  \\\n",
       "0  Red satin accent pillow embroidered with a hea...                 1   \n",
       "1  Set of 10 Battery Operated Train Christmas Lig...                 4   \n",
       "2                                                  0                 4   \n",
       "\n",
       "   relevance_variance                  query_cleaned  \\\n",
       "0               0.000  [bridal, shower, decorations]   \n",
       "1               0.000       [led, christmas, lights]   \n",
       "2               0.471                    [projector]   \n",
       "\n",
       "                         product_description_cleaned  \\\n",
       "0  [Red, satin, accent, pillow, embroidered, hear...   \n",
       "1  [Set, 10, Battery, Operated, Train, Christmas,...   \n",
       "2                                                [0]   \n",
       "\n",
       "                               product_title_cleaned  len_product_title  \\\n",
       "0      [Accent, Pillow, Heart, Design, -, Red/Black]                  6   \n",
       "1  [Set, 10, Battery, Operated, Multi, LED, Train...                 12   \n",
       "2   [ViewSonic, Pro8200, DLP, Multimedia, Projector]                  5   \n",
       "\n",
       "   len_product_description  len_query  \n",
       "0                       11          3  \n",
       "1                      119          3  \n",
       "2                        1          1  "
      ]
     },
     "execution_count": 27,
     "metadata": {},
     "output_type": "execute_result"
    }
   ],
   "source": [
    "train.head(3)"
   ]
  },
  {
   "cell_type": "code",
   "execution_count": 28,
   "metadata": {
    "collapsed": true
   },
   "outputs": [],
   "source": [
    "def str_common_word(str1, str2):\n",
    "    words, cnt = str1.split(), 0\n",
    "    for word in words:\n",
    "        if str2.find(word)>=0:\n",
    "            cnt+=1\n",
    "    return cnt"
   ]
  },
  {
   "cell_type": "code",
   "execution_count": 29,
   "metadata": {
    "collapsed": true
   },
   "outputs": [],
   "source": [
    "def str_whole_word(str1, str2, i_):\n",
    "    cnt = 0\n",
    "    while i_ < len(str2):\n",
    "        i_ = str2.find(str1, i_)\n",
    "        if i_ == -1:\n",
    "            return cnt\n",
    "        else:\n",
    "            cnt += 1\n",
    "            i_ += len(str1)\n",
    "    return cnt"
   ]
  },
  {
   "cell_type": "code",
   "execution_count": 30,
   "metadata": {
    "collapsed": false
   },
   "outputs": [],
   "source": [
    "#length of query\n",
    "train['query_cleaned'] = train['query_cleaned'].astype(str)\n",
    "test['query_cleaned'] = test['query_cleaned'].astype(str)\n",
    "train['len_of_query'] = train['query_cleaned'].map(lambda x:len(x.split())).astype(np.int64)\n",
    "test['len_of_query'] = test['query_cleaned'].map(lambda x:len(x.split())).astype(np.int64)"
   ]
  },
  {
   "cell_type": "code",
   "execution_count": 31,
   "metadata": {
    "collapsed": false
   },
   "outputs": [],
   "source": [
    "#length of description\n",
    "#train['len_of_description'] = train['product_description_cleaned'].map(lambda x:len(x.split())).astype(np.int64)\n",
    "#test['len_of_description'] = test['product_description_cleaned'].map(lambda x:len(x.split())).astype(np.int64)"
   ]
  },
  {
   "cell_type": "code",
   "execution_count": 32,
   "metadata": {
    "collapsed": false
   },
   "outputs": [],
   "source": [
    "#make new column for all product info\n",
    "#train['product_info'] = train['query_cleaned']+\"\\t\"+train['product_title_cleaned'] +\"\\t\"+train['product_description_cleaned']\n",
    "#test['product_info'] = test['query_cleaned']+\"\\t\"+test['product_title_cleaned'] +\"\\t\"+test['product_description_cleaned']"
   ]
  },
  {
   "cell_type": "code",
   "execution_count": 33,
   "metadata": {
    "collapsed": false,
    "scrolled": true
   },
   "outputs": [
    {
     "data": {
      "text/html": [
       "<div>\n",
       "<table border=\"1\" class=\"dataframe\">\n",
       "  <thead>\n",
       "    <tr style=\"text-align: right;\">\n",
       "      <th></th>\n",
       "      <th>id</th>\n",
       "      <th>query</th>\n",
       "      <th>product_title</th>\n",
       "      <th>product_description</th>\n",
       "      <th>median_relevance</th>\n",
       "      <th>relevance_variance</th>\n",
       "      <th>query_cleaned</th>\n",
       "      <th>product_description_cleaned</th>\n",
       "      <th>product_title_cleaned</th>\n",
       "      <th>len_product_title</th>\n",
       "      <th>len_product_description</th>\n",
       "      <th>len_query</th>\n",
       "      <th>len_of_query</th>\n",
       "    </tr>\n",
       "  </thead>\n",
       "  <tbody>\n",
       "    <tr>\n",
       "      <th>0</th>\n",
       "      <td>1</td>\n",
       "      <td>bridal shower decorations</td>\n",
       "      <td>Accent Pillow with Heart Design - Red/Black</td>\n",
       "      <td>Red satin accent pillow embroidered with a hea...</td>\n",
       "      <td>1</td>\n",
       "      <td>0.000</td>\n",
       "      <td>['bridal', 'shower', 'decorations']</td>\n",
       "      <td>[Red, satin, accent, pillow, embroidered, hear...</td>\n",
       "      <td>[Accent, Pillow, Heart, Design, -, Red/Black]</td>\n",
       "      <td>6</td>\n",
       "      <td>11</td>\n",
       "      <td>3</td>\n",
       "      <td>3</td>\n",
       "    </tr>\n",
       "    <tr>\n",
       "      <th>1</th>\n",
       "      <td>2</td>\n",
       "      <td>led christmas lights</td>\n",
       "      <td>Set of 10 Battery Operated Multi LED Train Chr...</td>\n",
       "      <td>Set of 10 Battery Operated Train Christmas Lig...</td>\n",
       "      <td>4</td>\n",
       "      <td>0.000</td>\n",
       "      <td>['led', 'christmas', 'lights']</td>\n",
       "      <td>[Set, 10, Battery, Operated, Train, Christmas,...</td>\n",
       "      <td>[Set, 10, Battery, Operated, Multi, LED, Train...</td>\n",
       "      <td>12</td>\n",
       "      <td>119</td>\n",
       "      <td>3</td>\n",
       "      <td>3</td>\n",
       "    </tr>\n",
       "    <tr>\n",
       "      <th>2</th>\n",
       "      <td>4</td>\n",
       "      <td>projector</td>\n",
       "      <td>ViewSonic Pro8200 DLP Multimedia Projector</td>\n",
       "      <td>0</td>\n",
       "      <td>4</td>\n",
       "      <td>0.471</td>\n",
       "      <td>['projector']</td>\n",
       "      <td>[0]</td>\n",
       "      <td>[ViewSonic, Pro8200, DLP, Multimedia, Projector]</td>\n",
       "      <td>5</td>\n",
       "      <td>1</td>\n",
       "      <td>1</td>\n",
       "      <td>1</td>\n",
       "    </tr>\n",
       "  </tbody>\n",
       "</table>\n",
       "</div>"
      ],
      "text/plain": [
       "   id                      query  \\\n",
       "0   1  bridal shower decorations   \n",
       "1   2       led christmas lights   \n",
       "2   4                  projector   \n",
       "\n",
       "                                       product_title  \\\n",
       "0        Accent Pillow with Heart Design - Red/Black   \n",
       "1  Set of 10 Battery Operated Multi LED Train Chr...   \n",
       "2         ViewSonic Pro8200 DLP Multimedia Projector   \n",
       "\n",
       "                                 product_description  median_relevance  \\\n",
       "0  Red satin accent pillow embroidered with a hea...                 1   \n",
       "1  Set of 10 Battery Operated Train Christmas Lig...                 4   \n",
       "2                                                  0                 4   \n",
       "\n",
       "   relevance_variance                        query_cleaned  \\\n",
       "0               0.000  ['bridal', 'shower', 'decorations']   \n",
       "1               0.000       ['led', 'christmas', 'lights']   \n",
       "2               0.471                        ['projector']   \n",
       "\n",
       "                         product_description_cleaned  \\\n",
       "0  [Red, satin, accent, pillow, embroidered, hear...   \n",
       "1  [Set, 10, Battery, Operated, Train, Christmas,...   \n",
       "2                                                [0]   \n",
       "\n",
       "                               product_title_cleaned  len_product_title  \\\n",
       "0      [Accent, Pillow, Heart, Design, -, Red/Black]                  6   \n",
       "1  [Set, 10, Battery, Operated, Multi, LED, Train...                 12   \n",
       "2   [ViewSonic, Pro8200, DLP, Multimedia, Projector]                  5   \n",
       "\n",
       "   len_product_description  len_query  len_of_query  \n",
       "0                       11          3             3  \n",
       "1                      119          3             3  \n",
       "2                        1          1             1  "
      ]
     },
     "execution_count": 33,
     "metadata": {},
     "output_type": "execute_result"
    }
   ],
   "source": [
    "train.head(3)"
   ]
  },
  {
   "cell_type": "code",
   "execution_count": 34,
   "metadata": {
    "collapsed": false,
    "scrolled": true
   },
   "outputs": [],
   "source": [
    "import re"
   ]
  },
  {
   "cell_type": "code",
   "execution_count": 35,
   "metadata": {
    "collapsed": true
   },
   "outputs": [],
   "source": [
    "def count_words(x):\n",
    "    return  len(re.findall(x['query'], x['product_title'].lower()))"
   ]
  },
  {
   "cell_type": "code",
   "execution_count": 36,
   "metadata": {
    "collapsed": true
   },
   "outputs": [],
   "source": [
    "train['query_in_title'] = train.apply(count_words, axis=1)"
   ]
  },
  {
   "cell_type": "code",
   "execution_count": 37,
   "metadata": {
    "collapsed": true
   },
   "outputs": [],
   "source": [
    "test['query_in_title'] = test.apply(count_words, axis=1)"
   ]
  },
  {
   "cell_type": "code",
   "execution_count": 38,
   "metadata": {
    "collapsed": true
   },
   "outputs": [],
   "source": [
    "def count_words_des(x):\n",
    "    return  len(re.findall(x['query'], x['product_description'].lower()))"
   ]
  },
  {
   "cell_type": "code",
   "execution_count": 39,
   "metadata": {
    "collapsed": false
   },
   "outputs": [],
   "source": [
    "train['query_in_desc']= train.apply(count_words_des, axis=1)"
   ]
  },
  {
   "cell_type": "code",
   "execution_count": 40,
   "metadata": {
    "collapsed": true
   },
   "outputs": [],
   "source": [
    "test['query_in_desc']= test.apply(count_words_des, axis=1)"
   ]
  },
  {
   "cell_type": "code",
   "execution_count": 41,
   "metadata": {
    "collapsed": false
   },
   "outputs": [
    {
     "data": {
      "text/html": [
       "<div>\n",
       "<table border=\"1\" class=\"dataframe\">\n",
       "  <thead>\n",
       "    <tr style=\"text-align: right;\">\n",
       "      <th></th>\n",
       "      <th>id</th>\n",
       "      <th>query</th>\n",
       "      <th>product_title</th>\n",
       "      <th>product_description</th>\n",
       "      <th>median_relevance</th>\n",
       "      <th>relevance_variance</th>\n",
       "      <th>query_cleaned</th>\n",
       "      <th>product_description_cleaned</th>\n",
       "      <th>product_title_cleaned</th>\n",
       "      <th>len_product_title</th>\n",
       "      <th>len_product_description</th>\n",
       "      <th>len_query</th>\n",
       "      <th>len_of_query</th>\n",
       "      <th>query_in_title</th>\n",
       "      <th>query_in_desc</th>\n",
       "    </tr>\n",
       "  </thead>\n",
       "  <tbody>\n",
       "    <tr>\n",
       "      <th>0</th>\n",
       "      <td>1</td>\n",
       "      <td>bridal shower decorations</td>\n",
       "      <td>Accent Pillow with Heart Design - Red/Black</td>\n",
       "      <td>Red satin accent pillow embroidered with a hea...</td>\n",
       "      <td>1</td>\n",
       "      <td>0.000</td>\n",
       "      <td>['bridal', 'shower', 'decorations']</td>\n",
       "      <td>[Red, satin, accent, pillow, embroidered, hear...</td>\n",
       "      <td>[Accent, Pillow, Heart, Design, -, Red/Black]</td>\n",
       "      <td>6</td>\n",
       "      <td>11</td>\n",
       "      <td>3</td>\n",
       "      <td>3</td>\n",
       "      <td>0</td>\n",
       "      <td>0</td>\n",
       "    </tr>\n",
       "    <tr>\n",
       "      <th>1</th>\n",
       "      <td>2</td>\n",
       "      <td>led christmas lights</td>\n",
       "      <td>Set of 10 Battery Operated Multi LED Train Chr...</td>\n",
       "      <td>Set of 10 Battery Operated Train Christmas Lig...</td>\n",
       "      <td>4</td>\n",
       "      <td>0.000</td>\n",
       "      <td>['led', 'christmas', 'lights']</td>\n",
       "      <td>[Set, 10, Battery, Operated, Train, Christmas,...</td>\n",
       "      <td>[Set, 10, Battery, Operated, Multi, LED, Train...</td>\n",
       "      <td>12</td>\n",
       "      <td>119</td>\n",
       "      <td>3</td>\n",
       "      <td>3</td>\n",
       "      <td>0</td>\n",
       "      <td>0</td>\n",
       "    </tr>\n",
       "    <tr>\n",
       "      <th>2</th>\n",
       "      <td>4</td>\n",
       "      <td>projector</td>\n",
       "      <td>ViewSonic Pro8200 DLP Multimedia Projector</td>\n",
       "      <td>0</td>\n",
       "      <td>4</td>\n",
       "      <td>0.471</td>\n",
       "      <td>['projector']</td>\n",
       "      <td>[0]</td>\n",
       "      <td>[ViewSonic, Pro8200, DLP, Multimedia, Projector]</td>\n",
       "      <td>5</td>\n",
       "      <td>1</td>\n",
       "      <td>1</td>\n",
       "      <td>1</td>\n",
       "      <td>1</td>\n",
       "      <td>0</td>\n",
       "    </tr>\n",
       "    <tr>\n",
       "      <th>3</th>\n",
       "      <td>5</td>\n",
       "      <td>wine rack</td>\n",
       "      <td>Concept Housewares WR-44526 Solid-Wood Ceiling...</td>\n",
       "      <td>Like a silent and sturdy tree, the Southern En...</td>\n",
       "      <td>4</td>\n",
       "      <td>0.000</td>\n",
       "      <td>['wine', 'rack']</td>\n",
       "      <td>[Like, silent, sturdy, tree,, Southern, Enterp...</td>\n",
       "      <td>[Concept, Housewares, WR-44526, Solid-Wood, Ce...</td>\n",
       "      <td>11</td>\n",
       "      <td>85</td>\n",
       "      <td>2</td>\n",
       "      <td>2</td>\n",
       "      <td>1</td>\n",
       "      <td>0</td>\n",
       "    </tr>\n",
       "    <tr>\n",
       "      <th>4</th>\n",
       "      <td>7</td>\n",
       "      <td>light bulb</td>\n",
       "      <td>Wintergreen Lighting Christmas LED Light Bulb ...</td>\n",
       "      <td>WTGR1011\\nFeatures\\nNickel base, 60,000 averag...</td>\n",
       "      <td>2</td>\n",
       "      <td>0.471</td>\n",
       "      <td>['light', 'bulb']</td>\n",
       "      <td>[WTGR1011, Features, Nickel, base,, 60,000, av...</td>\n",
       "      <td>[Wintergreen, Lighting, Christmas, LED, Light,...</td>\n",
       "      <td>8</td>\n",
       "      <td>43</td>\n",
       "      <td>2</td>\n",
       "      <td>2</td>\n",
       "      <td>1</td>\n",
       "      <td>1</td>\n",
       "    </tr>\n",
       "  </tbody>\n",
       "</table>\n",
       "</div>"
      ],
      "text/plain": [
       "   id                      query  \\\n",
       "0   1  bridal shower decorations   \n",
       "1   2       led christmas lights   \n",
       "2   4                  projector   \n",
       "3   5                  wine rack   \n",
       "4   7                 light bulb   \n",
       "\n",
       "                                       product_title  \\\n",
       "0        Accent Pillow with Heart Design - Red/Black   \n",
       "1  Set of 10 Battery Operated Multi LED Train Chr...   \n",
       "2         ViewSonic Pro8200 DLP Multimedia Projector   \n",
       "3  Concept Housewares WR-44526 Solid-Wood Ceiling...   \n",
       "4  Wintergreen Lighting Christmas LED Light Bulb ...   \n",
       "\n",
       "                                 product_description  median_relevance  \\\n",
       "0  Red satin accent pillow embroidered with a hea...                 1   \n",
       "1  Set of 10 Battery Operated Train Christmas Lig...                 4   \n",
       "2                                                  0                 4   \n",
       "3  Like a silent and sturdy tree, the Southern En...                 4   \n",
       "4  WTGR1011\\nFeatures\\nNickel base, 60,000 averag...                 2   \n",
       "\n",
       "   relevance_variance                        query_cleaned  \\\n",
       "0               0.000  ['bridal', 'shower', 'decorations']   \n",
       "1               0.000       ['led', 'christmas', 'lights']   \n",
       "2               0.471                        ['projector']   \n",
       "3               0.000                     ['wine', 'rack']   \n",
       "4               0.471                    ['light', 'bulb']   \n",
       "\n",
       "                         product_description_cleaned  \\\n",
       "0  [Red, satin, accent, pillow, embroidered, hear...   \n",
       "1  [Set, 10, Battery, Operated, Train, Christmas,...   \n",
       "2                                                [0]   \n",
       "3  [Like, silent, sturdy, tree,, Southern, Enterp...   \n",
       "4  [WTGR1011, Features, Nickel, base,, 60,000, av...   \n",
       "\n",
       "                               product_title_cleaned  len_product_title  \\\n",
       "0      [Accent, Pillow, Heart, Design, -, Red/Black]                  6   \n",
       "1  [Set, 10, Battery, Operated, Multi, LED, Train...                 12   \n",
       "2   [ViewSonic, Pro8200, DLP, Multimedia, Projector]                  5   \n",
       "3  [Concept, Housewares, WR-44526, Solid-Wood, Ce...                 11   \n",
       "4  [Wintergreen, Lighting, Christmas, LED, Light,...                  8   \n",
       "\n",
       "   len_product_description  len_query  len_of_query  query_in_title  \\\n",
       "0                       11          3             3               0   \n",
       "1                      119          3             3               0   \n",
       "2                        1          1             1               1   \n",
       "3                       85          2             2               1   \n",
       "4                       43          2             2               1   \n",
       "\n",
       "   query_in_desc  \n",
       "0              0  \n",
       "1              0  \n",
       "2              0  \n",
       "3              0  \n",
       "4              1  "
      ]
     },
     "execution_count": 41,
     "metadata": {},
     "output_type": "execute_result"
    }
   ],
   "source": [
    "train.head()"
   ]
  },
  {
   "cell_type": "code",
   "execution_count": 42,
   "metadata": {
    "collapsed": false
   },
   "outputs": [],
   "source": [
    "#train['ratio_title'] = train['query_in_title']/train['len_of_query']"
   ]
  },
  {
   "cell_type": "code",
   "execution_count": 43,
   "metadata": {
    "collapsed": true
   },
   "outputs": [],
   "source": [
    "#test['ratio_title'] = test['query_in_title']/train['len_of_query']"
   ]
  },
  {
   "cell_type": "code",
   "execution_count": 44,
   "metadata": {
    "collapsed": true
   },
   "outputs": [],
   "source": [
    "#train['ratio_description'] = train['query_in_desc']/train['len_of_query']"
   ]
  },
  {
   "cell_type": "code",
   "execution_count": 45,
   "metadata": {
    "collapsed": true
   },
   "outputs": [],
   "source": [
    "#test['ratio_description'] = test['query_in_desc']/train['len_of_query']"
   ]
  },
  {
   "cell_type": "code",
   "execution_count": 46,
   "metadata": {
    "collapsed": false
   },
   "outputs": [
    {
     "data": {
      "text/plain": [
       "6171"
      ]
     },
     "execution_count": 46,
     "metadata": {},
     "output_type": "execute_result"
    }
   ],
   "source": [
    "t = train\n",
    "t = t[t.median_relevance == 4]\n",
    "len(t)"
   ]
  },
  {
   "cell_type": "code",
   "execution_count": 47,
   "metadata": {
    "collapsed": false
   },
   "outputs": [
    {
     "data": {
      "text/plain": [
       "1737"
      ]
     },
     "execution_count": 47,
     "metadata": {},
     "output_type": "execute_result"
    }
   ],
   "source": [
    "t = train\n",
    "t = t[t.median_relevance == 3]\n",
    "len(t)"
   ]
  },
  {
   "cell_type": "code",
   "execution_count": 48,
   "metadata": {
    "collapsed": false
   },
   "outputs": [
    {
     "data": {
      "text/plain": [
       "1476"
      ]
     },
     "execution_count": 48,
     "metadata": {},
     "output_type": "execute_result"
    }
   ],
   "source": [
    "t = train\n",
    "t = t[t.median_relevance == 2]\n",
    "len(t)"
   ]
  },
  {
   "cell_type": "code",
   "execution_count": 49,
   "metadata": {
    "collapsed": false
   },
   "outputs": [
    {
     "data": {
      "text/plain": [
       "774"
      ]
     },
     "execution_count": 49,
     "metadata": {},
     "output_type": "execute_result"
    }
   ],
   "source": [
    "t = train\n",
    "t = t[t.median_relevance == 1]\n",
    "len(t)"
   ]
  },
  {
   "cell_type": "code",
   "execution_count": 50,
   "metadata": {
    "collapsed": false
   },
   "outputs": [],
   "source": [
    "import seaborn as sns\n",
    "% matplotlib inline"
   ]
  },
  {
   "cell_type": "code",
   "execution_count": 51,
   "metadata": {
    "collapsed": false
   },
   "outputs": [
    {
     "data": {
      "text/plain": [
       "<matplotlib.axes._subplots.AxesSubplot at 0x14fc5160>"
      ]
     },
     "execution_count": 51,
     "metadata": {},
     "output_type": "execute_result"
    },
    {
     "data": {
      "image/png": "[encoded data removed]",
      "text/plain": [
       "<matplotlib.figure.Figure at 0xcdcc0f0>"
      ]
     },
     "metadata": {},
     "output_type": "display_data"
    }
   ],
   "source": [
    "sns.countplot(train.median_relevance, palette = 'Set3')"
   ]
  },
  {
   "cell_type": "code",
   "execution_count": 52,
   "metadata": {
    "collapsed": true
   },
   "outputs": [],
   "source": [
    "# mport the random forest package # it's the best model used so far but i want to prove that\n",
    "from sklearn.ensemble import RandomForestClassifier"
   ]
  },
  {
   "cell_type": "code",
   "execution_count": 53,
   "metadata": {
    "collapsed": false
   },
   "outputs": [
    {
     "data": {
      "text/plain": [
       "['id',\n",
       " 'query',\n",
       " 'product_title',\n",
       " 'product_description',\n",
       " 'median_relevance',\n",
       " 'relevance_variance',\n",
       " 'query_cleaned',\n",
       " 'product_description_cleaned',\n",
       " 'product_title_cleaned',\n",
       " 'len_product_title',\n",
       " 'len_product_description',\n",
       " 'len_query',\n",
       " 'len_of_query',\n",
       " 'query_in_title',\n",
       " 'query_in_desc']"
      ]
     },
     "execution_count": 53,
     "metadata": {},
     "output_type": "execute_result"
    }
   ],
   "source": [
    "list(train)"
   ]
  },
  {
   "cell_type": "code",
   "execution_count": 54,
   "metadata": {
    "collapsed": true
   },
   "outputs": [],
   "source": [
    "feature_columns = [\n",
    " 'len_product_title',\n",
    " 'len_product_description',\n",
    " 'len_query',\n",
    " 'len_of_query',\n",
    " 'query_in_title',\n",
    " 'query_in_desc',\n",
    "]"
   ]
  },
  {
   "cell_type": "code",
   "execution_count": 55,
   "metadata": {
    "collapsed": false
   },
   "outputs": [],
   "source": [
    "X = train[feature_columns]\n",
    "y = train.median_relevance"
   ]
  },
  {
   "cell_type": "code",
   "execution_count": 56,
   "metadata": {
    "collapsed": false
   },
   "outputs": [],
   "source": [
    "X_test = test[feature_columns]"
   ]
  },
  {
   "cell_type": "code",
   "execution_count": 57,
   "metadata": {
    "collapsed": false,
    "scrolled": true
   },
   "outputs": [
    {
     "data": {
      "text/plain": [
       "RandomForestClassifier(bootstrap=True, class_weight=None, criterion='gini',\n",
       "            max_depth=None, max_features='auto', max_leaf_nodes=None,\n",
       "            min_samples_leaf=1, min_samples_split=2,\n",
       "            min_weight_fraction_leaf=0.0, n_estimators=10, n_jobs=1,\n",
       "            oob_score=False, random_state=None, verbose=0,\n",
       "            warm_start=False)"
      ]
     },
     "execution_count": 57,
     "metadata": {},
     "output_type": "execute_result"
    }
   ],
   "source": [
    "model = RandomForestClassifier()\n",
    "model.fit(X,y)"
   ]
  },
  {
   "cell_type": "code",
   "execution_count": 58,
   "metadata": {
    "collapsed": true
   },
   "outputs": [],
   "source": [
    "from sklearn.cross_validation import cross_val_score"
   ]
  },
  {
   "cell_type": "code",
   "execution_count": 59,
   "metadata": {
    "collapsed": false
   },
   "outputs": [
    {
     "data": {
      "text/plain": [
       "array([ 0.52062868,  0.52310718,  0.52114061,  0.53294002,  0.5       ,\n",
       "        0.51476378,  0.53596059,  0.50098619,  0.52366864,  0.50690335])"
      ]
     },
     "execution_count": 59,
     "metadata": {},
     "output_type": "execute_result"
    }
   ],
   "source": [
    "cross_val_score(model, X, y, 'accuracy', cv=10)"
   ]
  },
  {
   "cell_type": "code",
   "execution_count": 60,
   "metadata": {
    "collapsed": false
   },
   "outputs": [
    {
     "data": {
      "text/plain": [
       "array([ 0.20463404,  0.68485757,  0.01622232,  0.01839378,  0.03951248,\n",
       "        0.03637981])"
      ]
     },
     "execution_count": 60,
     "metadata": {},
     "output_type": "execute_result"
    }
   ],
   "source": [
    "#look at feature importance\n",
    "importances = model.feature_importances_\n",
    "importances"
   ]
  },
  {
   "cell_type": "code",
   "execution_count": 61,
   "metadata": {
    "collapsed": false,
    "scrolled": false
   },
   "outputs": [
    {
     "name": "stdout",
     "output_type": "stream",
     "text": [
      "Feature ranking:\n",
      "1. feature 1 (0.684858)\n",
      "2. feature 0 (0.204634)\n",
      "3. feature 4 (0.039512)\n",
      "4. feature 5 (0.036380)\n",
      "5. feature 3 (0.018394)\n",
      "6. feature 2 (0.016222)\n"
     ]
    }
   ],
   "source": [
    "indices = np.argsort(importances)[::-1]\n",
    "\n",
    "# Print the feature ranking\n",
    "print(\"Feature ranking:\")\n",
    "\n",
    "for f in range(X.shape[1]):\n",
    "    print(\"%d. feature %d (%f)\" % (f + 1, indices[f], importances[indices[f]]))\n"
   ]
  },
  {
   "cell_type": "code",
   "execution_count": 62,
   "metadata": {
    "collapsed": false
   },
   "outputs": [],
   "source": [
    "y_pred = model.predict(X_test)"
   ]
  },
  {
   "cell_type": "code",
   "execution_count": 63,
   "metadata": {
    "collapsed": true
   },
   "outputs": [],
   "source": [
    "#export it to csv\n",
    "pd.DataFrame(test).to_csv(\"test_cleaned_may_30.csv\")\n",
    "pd.DataFrame(train).to_csv(\"train_cleaned_may_30.csv\")"
   ]
  },
  {
   "cell_type": "code",
   "execution_count": 64,
   "metadata": {
    "collapsed": false
   },
   "outputs": [],
   "source": [
    "submission = pd.DataFrame({\"id\": test[\"id\"], \"prediction\": y_pred})\n",
    "submission.to_csv(\"submission4_may_30.csv\", index=False)"
   ]
  },
  {
   "cell_type": "code",
   "execution_count": 65,
   "metadata": {
    "collapsed": true
   },
   "outputs": [],
   "source": [
    "#score 0.12235 (really bad)"
   ]
  },
  {
   "cell_type": "code",
   "execution_count": 66,
   "metadata": {
    "collapsed": true
   },
   "outputs": [],
   "source": [
    "import matplotlib.pyplot as plt"
   ]
  },
  {
   "cell_type": "code",
   "execution_count": 67,
   "metadata": {
    "collapsed": false
   },
   "outputs": [
    {
     "name": "stdout",
     "output_type": "stream",
     "text": [
      "[[   1  326]\n",
      " [   2  586]\n",
      " [   3  681]\n",
      " [   4 2470]]\n",
      "        queryCount   titleCount      Jaccard        label\n",
      "count  4063.000000  4063.000000  4063.000000  4063.000000\n",
      "mean      2.361309     7.707851     0.192668     3.303224\n",
      "std       0.840798     2.866650     0.135936     0.990654\n",
      "min       1.000000     1.000000     0.000000     1.000000\n",
      "25%       2.000000     6.000000     0.100000     3.000000\n",
      "50%       2.000000     7.000000     0.166667     4.000000\n",
      "75%       3.000000     9.000000     0.250000     4.000000\n",
      "max       6.000000    30.000000     1.000000     4.000000\n"
     ]
    },
    {
     "data": {
      "text/plain": [
       "<matplotlib.figure.Figure at 0x1647dd68>"
      ]
     },
     "metadata": {},
     "output_type": "display_data"
    },
    {
     "data": {
      "image/png": "[encoded data removed]",
      "text/plain": [
       "<matplotlib.figure.Figure at 0x1645eda0>"
      ]
     },
     "metadata": {},
     "output_type": "display_data"
    }
   ],
   "source": [
    "from scipy.stats import itemfreq\n",
    "from nltk.stem.porter import PorterStemmer\n",
    "import re\n",
    "\n",
    "stemmer = PorterStemmer()\n",
    "regex1 = re.compile('[^a-zA-Z]')\n",
    "\n",
    "def stem(word):\n",
    "    return stemmer.stem(word)\n",
    "\n",
    "#Jaccard similarity coefficient score\n",
    "#The Jaccard index [1], or Jaccard similarity coefficient, defined as the size of the intersection divided by the size of the union of two sets.\n",
    "def Jaccard(row):\n",
    "    words0 = regex1.sub(' ', row[0])\n",
    "    words1 = regex1.sub(' ', row[1])\n",
    "\n",
    "    words0 = set(words0.lower().split(' '))\n",
    "    words1 = set(words1.lower().split(' '))\n",
    "\n",
    "    normalizer = max(float(len(words0 | words1)), 1.0)\n",
    "    return len(words0 & words1) / normalizer\n",
    "\n",
    "def length(string):\n",
    "    words = regex1.sub(' ', string)\n",
    "    words = [stem(word) for word in words.split(' ') if len(word) > 1]\n",
    "    return len(set(words))\n",
    "\n",
    "train = pd.read_csv('train.csv')\n",
    "rows = train.shape[0]\n",
    "train = train.loc[np.random.choice(train.index, round(0.4*rows), replace=False)]\n",
    "\n",
    "# we dont need ID columns\n",
    "train = train.drop('id', axis=1)\n",
    "y = train.median_relevance.values\n",
    "print(itemfreq(y))\n",
    "\n",
    "train = train.drop(['median_relevance', 'relevance_variance'], axis=1)\n",
    "\n",
    "train['queryCount'] = train['query'].apply(length)\n",
    "train['titleCount'] = train['product_title'].apply(length)\n",
    "train['Jaccard'] = train[['query', 'product_title']].apply(Jaccard, axis=1)\n",
    "train['label'] = y\n",
    "train = train.drop(['query', 'product_title', 'product_description'], axis=1)\n",
    "print(train.describe())\n",
    "\n",
    "fig = plt.figure()\n",
    "pg = sns.pairplot(train, hue='label', size=2.5)\n",
    "pg.savefig('pairplot.png')"
   ]
  },
  {
   "cell_type": "code",
   "execution_count": null,
   "metadata": {
    "collapsed": true
   },
   "outputs": [],
   "source": []
  }
 ],
 "metadata": {
  "kernelspec": {
   "display_name": "Python 3",
   "language": "python",
   "name": "python3"
  },
  "language_info": {
   "codemirror_mode": {
    "name": "ipython",
    "version": 3
   },
   "file_extension": ".py",
   "mimetype": "text/x-python",
   "name": "python",
   "nbconvert_exporter": "python",
   "pygments_lexer": "ipython3",
   "version": "3.5.1"
  }
 },
 "nbformat": 4,
 "nbformat_minor": 0
}
